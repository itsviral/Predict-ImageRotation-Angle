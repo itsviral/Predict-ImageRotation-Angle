{
 "cells": [
  {
   "cell_type": "code",
   "execution_count": 1,
   "metadata": {},
   "outputs": [
    {
     "name": "stderr",
     "output_type": "stream",
     "text": [
      "/anaconda2/lib/python2.7/site-packages/h5py/__init__.py:36: FutureWarning: Conversion of the second argument of issubdtype from `float` to `np.floating` is deprecated. In future, it will be treated as `np.float64 == np.dtype(float).type`.\n",
      "  from ._conv import register_converters as _register_converters\n"
     ]
    }
   ],
   "source": [
    "import os\n",
    "from PIL import Image\n",
    "import numpy as np\n",
    "from sklearn.model_selection import train_test_split\n",
    "import cv2\n",
    "import tensorflow as tf\n",
    "import random\n",
    "from __future__ import division, print_function, absolute_import\n",
    "import uuid"
   ]
  },
  {
   "cell_type": "code",
   "execution_count": 2,
   "metadata": {},
   "outputs": [],
   "source": [
    "#..... All varialbe and parameters\n",
    "\n",
    "# image size to be shrinked\n",
    "image_size = 50 , 50\n",
    "image_data_and_lables = []\n",
    "\n",
    "# assign the percentage of test data \n",
    "test_split_data_percentage = 20"
   ]
  },
  {
   "cell_type": "code",
   "execution_count": 3,
   "metadata": {},
   "outputs": [
    {
     "name": "stdout",
     "output_type": "stream",
     "text": [
      "some error occured while opening file\n",
      "image reading and processing status :  62.1118012422%\n",
      "image reading and processing status : 100%\n"
     ]
    }
   ],
   "source": [
    "# ...... Make data\n",
    "\n",
    "directory_path = \"data\"\n",
    "\n",
    "file_counter = 1 \n",
    "\n",
    "image_rotation_main_counter = 0\n",
    "\n",
    "for root, dirs, filenames in os.walk(directory_path):\n",
    "    \n",
    "    total_files = len(filenames)\n",
    "  \n",
    "    for fileName in filenames:\n",
    "        \n",
    "         #Print Process Status\n",
    "            \n",
    "        if (file_counter % 100 == 0):\n",
    "            \n",
    "            percentage = (file_counter * 100) / total_files \n",
    "            \n",
    "            print(\"image reading and processing status :  \" + str(percentage) + \"%\")\n",
    "            \n",
    "        file_counter = file_counter + 1\n",
    "        \n",
    "        if(file_counter == total_files):\n",
    "            \n",
    "             print(\"image reading and processing status : 100%\")\n",
    "                \n",
    "                \n",
    "         # file io operation\n",
    "                        \n",
    "        image_file_path_name = (directory_path + \"/\" + fileName) \n",
    "        \n",
    "        try:\n",
    "            \n",
    "            image = cv2.imread(image_file_path_name)\n",
    "            \n",
    "         # Read image in grayscale and resize\n",
    "            \n",
    "            image = cv2.cvtColor(image, cv2.COLOR_BGR2GRAY)\n",
    "            \n",
    "            image = cv2.resize(image , image_size)  \n",
    "          \n",
    "            rot = [0 , 90 , 180, 270]\n",
    "        \n",
    "            for i in rot:\n",
    "                \n",
    "                rows,cols = image.shape\n",
    "                \n",
    "                temp = []\n",
    "                \n",
    "                if(i == 0):\n",
    "                    \n",
    "                    temp = 0\n",
    "                    \n",
    "                if(i == 90):\n",
    "                    temp = 1\n",
    "                    \n",
    "                if(i == 180):\n",
    "                    \n",
    "                    temp = 2\n",
    "                    \n",
    "                if(i == 270):\n",
    "                    \n",
    "                    temp = 3\n",
    "\n",
    "                M = cv2.getRotationMatrix2D((cols/2,rows/2), i ,1)\n",
    "                \n",
    "                new_roatated_image = cv2.warpAffine(image,M,(cols,rows))\n",
    "                \n",
    "                concated_image = np.concatenate((image, new_roatated_image), axis=0)\n",
    "                \n",
    "                image_data_and_lables.append((np.array(concated_image , dtype = \"float32\")/255.0 , temp))\n",
    "                \n",
    "                fname = \"data_coreML/\" + str(i) + \"/\" + uuid.uuid4().hex + \".png\"\n",
    "                \n",
    "                cv2.imwrite(fname , concated_image)\n",
    "        \n",
    "        except:\n",
    "            \n",
    "            print(\"some error occured while opening file\")"
   ]
  },
  {
   "cell_type": "code",
   "execution_count": null,
   "metadata": {},
   "outputs": [],
   "source": []
  }
 ],
 "metadata": {
  "kernelspec": {
   "display_name": "Python 2",
   "language": "python",
   "name": "python2"
  },
  "language_info": {
   "codemirror_mode": {
    "name": "ipython",
    "version": 2
   },
   "file_extension": ".py",
   "mimetype": "text/x-python",
   "name": "python",
   "nbconvert_exporter": "python",
   "pygments_lexer": "ipython2",
   "version": "2.7.15"
  }
 },
 "nbformat": 4,
 "nbformat_minor": 2
}
