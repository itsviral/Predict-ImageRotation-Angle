{
 "cells": [
  {
   "cell_type": "code",
   "execution_count": 22,
   "metadata": {},
   "outputs": [],
   "source": [
    "import turicreate as tc\n",
    "import sys\n",
    "import cv2\n",
    "import numpy as np"
   ]
  },
  {
   "cell_type": "code",
   "execution_count": 21,
   "metadata": {},
   "outputs": [
    {
     "data": {
      "text/plain": [
       "'90'"
      ]
     },
     "execution_count": 21,
     "metadata": {},
     "output_type": "execute_result"
    }
   ],
   "source": [
    "image_size = 50 , 50\n",
    "\n",
    "if (len(sys.argv) == 3):\n",
    "    \n",
    "    try:\n",
    "        image1 = cv2.imread(sys.argv[1])\n",
    "        image2 = cv2.imread(sys.argv[2])\n",
    "            \n",
    "    except:\n",
    "        \n",
    "        print(\"problem while opening image\")\n",
    "            \n",
    "    # Read image in grayscale and resize\n",
    "            \n",
    "    image1 = cv2.cvtColor(image1, cv2.COLOR_BGR2GRAY)\n",
    "    image2 = cv2.cvtColor(image2, cv2.COLOR_BGR2GRAY)\n",
    "            \n",
    "    image1 = cv2.resize(image1 , image_size)  \n",
    "    image2 = cv2.resize(image2 , image_size)  \n",
    "\n",
    "    concated_image = np.concatenate((image1, image2), axis=0)\n",
    "\n",
    "    cv2.imwrite(\"temp.png\" , concated_image)\n",
    "\n",
    "    try:\n",
    "        \n",
    "        model = tc.load_model(\"angleRoationPredict.model\")\n",
    "\n",
    "        tc_image = tc.Image(\"temp.png\")\n",
    "\n",
    "        result = model.predict(tc_image)\n",
    "        \n",
    "        print(\"The angle of rotation is : \" +  str(result)\n",
    "        \n",
    "    except:\n",
    "        \n",
    "        print(\"problem while predicting image roatation\")"
   ]
  },
  {
   "cell_type": "code",
   "execution_count": null,
   "metadata": {},
   "outputs": [],
   "source": []
  }
 ],
 "metadata": {
  "kernelspec": {
   "display_name": "Python 2",
   "language": "python",
   "name": "python2"
  },
  "language_info": {
   "codemirror_mode": {
    "name": "ipython",
    "version": 2
   },
   "file_extension": ".py",
   "mimetype": "text/x-python",
   "name": "python",
   "nbconvert_exporter": "python",
   "pygments_lexer": "ipython2",
   "version": "2.7.15"
  }
 },
 "nbformat": 4,
 "nbformat_minor": 2
}
